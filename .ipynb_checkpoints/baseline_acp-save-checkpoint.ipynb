{
 "cells": [
  {
   "cell_type": "markdown",
   "id": "fb65f118",
   "metadata": {},
   "source": [
    "# Task 1 Get the data and transform them"
   ]
  },
  {
   "cell_type": "code",
   "execution_count": 1,
   "id": "30a5ee96",
   "metadata": {},
   "outputs": [],
   "source": [
    "import pandas as pd"
   ]
  },
  {
   "cell_type": "code",
   "execution_count": 7,
   "id": "ce413d78",
   "metadata": {},
   "outputs": [
    {
     "name": "stdout",
     "output_type": "stream",
     "text": [
      "test_data.csv   train_data.csv\r\n"
     ]
    }
   ],
   "source": [
    "ls data/acp"
   ]
  },
  {
   "cell_type": "code",
   "execution_count": 9,
   "id": "82786419",
   "metadata": {},
   "outputs": [],
   "source": [
    "df = pd.read_csv('data/acp/train_data.csv') # reading the training dataset for acp"
   ]
  },
  {
   "cell_type": "code",
   "execution_count": 10,
   "id": "53a17fe4",
   "metadata": {},
   "outputs": [
    {
     "data": {
      "text/html": [
       "<div>\n",
       "<style scoped>\n",
       "    .dataframe tbody tr th:only-of-type {\n",
       "        vertical-align: middle;\n",
       "    }\n",
       "\n",
       "    .dataframe tbody tr th {\n",
       "        vertical-align: top;\n",
       "    }\n",
       "\n",
       "    .dataframe thead th {\n",
       "        text-align: right;\n",
       "    }\n",
       "</style>\n",
       "<table border=\"1\" class=\"dataframe\">\n",
       "  <thead>\n",
       "    <tr style=\"text-align: right;\">\n",
       "      <th></th>\n",
       "      <th>sequences</th>\n",
       "      <th>label</th>\n",
       "    </tr>\n",
       "  </thead>\n",
       "  <tbody>\n",
       "    <tr>\n",
       "      <th>0</th>\n",
       "      <td>RRWWRRWRRW</td>\n",
       "      <td>0</td>\n",
       "    </tr>\n",
       "    <tr>\n",
       "      <th>1</th>\n",
       "      <td>GWKSVFRKAKKVGKTVGGLALDHYLG</td>\n",
       "      <td>0</td>\n",
       "    </tr>\n",
       "  </tbody>\n",
       "</table>\n",
       "</div>"
      ],
      "text/plain": [
       "                    sequences  label\n",
       "0                  RRWWRRWRRW      0\n",
       "1  GWKSVFRKAKKVGKTVGGLALDHYLG      0"
      ]
     },
     "execution_count": 10,
     "metadata": {},
     "output_type": "execute_result"
    }
   ],
   "source": [
    "df.head(2)#comment"
   ]
  },
  {
   "cell_type": "code",
   "execution_count": 11,
   "id": "88e2f910",
   "metadata": {},
   "outputs": [],
   "source": [
    "#chain go from 2 to 50"
   ]
  },
  {
   "cell_type": "code",
   "execution_count": 12,
   "id": "5373ef83",
   "metadata": {},
   "outputs": [],
   "source": [
    "def splitchain(dataframe):\n",
    "    x1 = dataframe[0]\n",
    "    c1 = x1[0:1];c2 = x1[1:2];c3 = x1[2:3];c4 = x1[3:4];c5 = x1[4:5];\n",
    "    c6 = x1[5:6];c7 = x1[6:7];c8 = x1[7:8];c9 = x1[8:9];c10 = x1[9:10];\n",
    "    c11 = x1[10:11];c12 = x1[11:12];c13 = x1[12:13];c14 = x1[13:14];c15 = x1[14:15];\n",
    "    c16 = x1[15:16];c17 = x1[16:17];c18 = x1[17:18];c19 = x1[18:19];c20 = x1[19:20];\n",
    "    c21 = x1[20:21];c22 = x1[21:22];c23 = x1[22:23];c24 = x1[23:24];c25 = x1[24:25];\n",
    "    c26 = x1[25:26];c27 = x1[26:27];c28 = x1[27:28];c29 = x1[28:29];c30 = x1[29:30];\n",
    "    c31 = x1[30:31];c32 = x1[31:32];c33 = x1[32:33];c34 = x1[33:34];c35 = x1[34:35];\n",
    "    c36 = x1[35:36];c37 = x1[36:37];c38 = x1[37:38];c39 = x1[38:39];c40 = x1[39:40];\n",
    "    c41 = x1[40:41];c42 = x1[41:42];c43 = x1[42:43];c44 = x1[43:44];c45 = x1[44:45];\n",
    "    c46 = x1[45:46];c47 = x1[46:47];c48 = x1[47:48];c49 = x1[48:49];c50 = x1[49:50];\n",
    "    return pd.Series([c1,c2,c3,c4,c5,c6,c7,c8,c9,c10,c11,c12,c13,c14,c15,c16,c17,c18,c19,c20,\n",
    "        c21,c22,c23,c24,c25,c26,c27,c28,c29,c30,c31,c32,c33,c34,c35,c36,c37,c38,c39,c40,\n",
    "           c41,c42,c43,c44,c45,c46,c47,c48,c49,c50])"
   ]
  },
  {
   "cell_type": "code",
   "execution_count": 13,
   "id": "d57ac8d4",
   "metadata": {},
   "outputs": [],
   "source": [
    "df[['c1','c2','c3','c4','c5','c6','c7','c8','c9','c10',\n",
    " 'c11','c12','c13','c14','c15','c16','c17','c18','c19','c20',\n",
    " 'c21','c22','c23','c24','c25','c26','c27','c28','c29','c30',\n",
    " 'c31','c32','c33','c34','c35','c36','c37','c38','c39','c40',\n",
    " 'c41','c42','c43','c44','c45','c46','c47','c48','c49',\n",
    " 'c50']] = df.apply(splitchain,axis=1)"
   ]
  },
  {
   "cell_type": "code",
   "execution_count": 14,
   "id": "804a909d",
   "metadata": {},
   "outputs": [
    {
     "data": {
      "text/html": [
       "<div>\n",
       "<style scoped>\n",
       "    .dataframe tbody tr th:only-of-type {\n",
       "        vertical-align: middle;\n",
       "    }\n",
       "\n",
       "    .dataframe tbody tr th {\n",
       "        vertical-align: top;\n",
       "    }\n",
       "\n",
       "    .dataframe thead th {\n",
       "        text-align: right;\n",
       "    }\n",
       "</style>\n",
       "<table border=\"1\" class=\"dataframe\">\n",
       "  <thead>\n",
       "    <tr style=\"text-align: right;\">\n",
       "      <th></th>\n",
       "      <th>sequences</th>\n",
       "      <th>label</th>\n",
       "      <th>c1</th>\n",
       "      <th>c2</th>\n",
       "      <th>c3</th>\n",
       "      <th>c4</th>\n",
       "      <th>c5</th>\n",
       "      <th>c6</th>\n",
       "      <th>c7</th>\n",
       "      <th>c8</th>\n",
       "      <th>...</th>\n",
       "      <th>c41</th>\n",
       "      <th>c42</th>\n",
       "      <th>c43</th>\n",
       "      <th>c44</th>\n",
       "      <th>c45</th>\n",
       "      <th>c46</th>\n",
       "      <th>c47</th>\n",
       "      <th>c48</th>\n",
       "      <th>c49</th>\n",
       "      <th>c50</th>\n",
       "    </tr>\n",
       "  </thead>\n",
       "  <tbody>\n",
       "    <tr>\n",
       "      <th>0</th>\n",
       "      <td>RRWWRRWRRW</td>\n",
       "      <td>0</td>\n",
       "      <td>R</td>\n",
       "      <td>R</td>\n",
       "      <td>W</td>\n",
       "      <td>W</td>\n",
       "      <td>R</td>\n",
       "      <td>R</td>\n",
       "      <td>W</td>\n",
       "      <td>R</td>\n",
       "      <td>...</td>\n",
       "      <td></td>\n",
       "      <td></td>\n",
       "      <td></td>\n",
       "      <td></td>\n",
       "      <td></td>\n",
       "      <td></td>\n",
       "      <td></td>\n",
       "      <td></td>\n",
       "      <td></td>\n",
       "      <td></td>\n",
       "    </tr>\n",
       "    <tr>\n",
       "      <th>1</th>\n",
       "      <td>GWKSVFRKAKKVGKTVGGLALDHYLG</td>\n",
       "      <td>0</td>\n",
       "      <td>G</td>\n",
       "      <td>W</td>\n",
       "      <td>K</td>\n",
       "      <td>S</td>\n",
       "      <td>V</td>\n",
       "      <td>F</td>\n",
       "      <td>R</td>\n",
       "      <td>K</td>\n",
       "      <td>...</td>\n",
       "      <td></td>\n",
       "      <td></td>\n",
       "      <td></td>\n",
       "      <td></td>\n",
       "      <td></td>\n",
       "      <td></td>\n",
       "      <td></td>\n",
       "      <td></td>\n",
       "      <td></td>\n",
       "      <td></td>\n",
       "    </tr>\n",
       "    <tr>\n",
       "      <th>2</th>\n",
       "      <td>ALWKTMLKKLGTMALHAGKAALGAAADTISQGTQ</td>\n",
       "      <td>1</td>\n",
       "      <td>A</td>\n",
       "      <td>L</td>\n",
       "      <td>W</td>\n",
       "      <td>K</td>\n",
       "      <td>T</td>\n",
       "      <td>M</td>\n",
       "      <td>L</td>\n",
       "      <td>K</td>\n",
       "      <td>...</td>\n",
       "      <td></td>\n",
       "      <td></td>\n",
       "      <td></td>\n",
       "      <td></td>\n",
       "      <td></td>\n",
       "      <td></td>\n",
       "      <td></td>\n",
       "      <td></td>\n",
       "      <td></td>\n",
       "      <td></td>\n",
       "    </tr>\n",
       "    <tr>\n",
       "      <th>3</th>\n",
       "      <td>GLFDVIKKVAAVIGGL</td>\n",
       "      <td>1</td>\n",
       "      <td>G</td>\n",
       "      <td>L</td>\n",
       "      <td>F</td>\n",
       "      <td>D</td>\n",
       "      <td>V</td>\n",
       "      <td>I</td>\n",
       "      <td>K</td>\n",
       "      <td>K</td>\n",
       "      <td>...</td>\n",
       "      <td></td>\n",
       "      <td></td>\n",
       "      <td></td>\n",
       "      <td></td>\n",
       "      <td></td>\n",
       "      <td></td>\n",
       "      <td></td>\n",
       "      <td></td>\n",
       "      <td></td>\n",
       "      <td></td>\n",
       "    </tr>\n",
       "    <tr>\n",
       "      <th>4</th>\n",
       "      <td>VAKLLAKLAKKVL</td>\n",
       "      <td>1</td>\n",
       "      <td>V</td>\n",
       "      <td>A</td>\n",
       "      <td>K</td>\n",
       "      <td>L</td>\n",
       "      <td>L</td>\n",
       "      <td>A</td>\n",
       "      <td>K</td>\n",
       "      <td>L</td>\n",
       "      <td>...</td>\n",
       "      <td></td>\n",
       "      <td></td>\n",
       "      <td></td>\n",
       "      <td></td>\n",
       "      <td></td>\n",
       "      <td></td>\n",
       "      <td></td>\n",
       "      <td></td>\n",
       "      <td></td>\n",
       "      <td></td>\n",
       "    </tr>\n",
       "    <tr>\n",
       "      <th>...</th>\n",
       "      <td>...</td>\n",
       "      <td>...</td>\n",
       "      <td>...</td>\n",
       "      <td>...</td>\n",
       "      <td>...</td>\n",
       "      <td>...</td>\n",
       "      <td>...</td>\n",
       "      <td>...</td>\n",
       "      <td>...</td>\n",
       "      <td>...</td>\n",
       "      <td>...</td>\n",
       "      <td>...</td>\n",
       "      <td>...</td>\n",
       "      <td>...</td>\n",
       "      <td>...</td>\n",
       "      <td>...</td>\n",
       "      <td>...</td>\n",
       "      <td>...</td>\n",
       "      <td>...</td>\n",
       "      <td>...</td>\n",
       "      <td>...</td>\n",
       "    </tr>\n",
       "    <tr>\n",
       "      <th>1373</th>\n",
       "      <td>LLKLLKWLLKLLK</td>\n",
       "      <td>0</td>\n",
       "      <td>L</td>\n",
       "      <td>L</td>\n",
       "      <td>K</td>\n",
       "      <td>L</td>\n",
       "      <td>L</td>\n",
       "      <td>K</td>\n",
       "      <td>W</td>\n",
       "      <td>L</td>\n",
       "      <td>...</td>\n",
       "      <td></td>\n",
       "      <td></td>\n",
       "      <td></td>\n",
       "      <td></td>\n",
       "      <td></td>\n",
       "      <td></td>\n",
       "      <td></td>\n",
       "      <td></td>\n",
       "      <td></td>\n",
       "      <td></td>\n",
       "    </tr>\n",
       "    <tr>\n",
       "      <th>1374</th>\n",
       "      <td>GFKDWIKGAAKKLIKTVAANIANQ</td>\n",
       "      <td>0</td>\n",
       "      <td>G</td>\n",
       "      <td>F</td>\n",
       "      <td>K</td>\n",
       "      <td>D</td>\n",
       "      <td>W</td>\n",
       "      <td>I</td>\n",
       "      <td>K</td>\n",
       "      <td>G</td>\n",
       "      <td>...</td>\n",
       "      <td></td>\n",
       "      <td></td>\n",
       "      <td></td>\n",
       "      <td></td>\n",
       "      <td></td>\n",
       "      <td></td>\n",
       "      <td></td>\n",
       "      <td></td>\n",
       "      <td></td>\n",
       "      <td></td>\n",
       "    </tr>\n",
       "    <tr>\n",
       "      <th>1375</th>\n",
       "      <td>ESEFDRQEYEECKRQCMQLETSGQMRRCVSQCDKRFEEDIDWSKYDNQE</td>\n",
       "      <td>0</td>\n",
       "      <td>E</td>\n",
       "      <td>S</td>\n",
       "      <td>E</td>\n",
       "      <td>F</td>\n",
       "      <td>D</td>\n",
       "      <td>R</td>\n",
       "      <td>Q</td>\n",
       "      <td>E</td>\n",
       "      <td>...</td>\n",
       "      <td>D</td>\n",
       "      <td>W</td>\n",
       "      <td>S</td>\n",
       "      <td>K</td>\n",
       "      <td>Y</td>\n",
       "      <td>D</td>\n",
       "      <td>N</td>\n",
       "      <td>Q</td>\n",
       "      <td>E</td>\n",
       "      <td></td>\n",
       "    </tr>\n",
       "    <tr>\n",
       "      <th>1376</th>\n",
       "      <td>FISAIASFLGKFL</td>\n",
       "      <td>1</td>\n",
       "      <td>F</td>\n",
       "      <td>I</td>\n",
       "      <td>S</td>\n",
       "      <td>A</td>\n",
       "      <td>I</td>\n",
       "      <td>A</td>\n",
       "      <td>S</td>\n",
       "      <td>F</td>\n",
       "      <td>...</td>\n",
       "      <td></td>\n",
       "      <td></td>\n",
       "      <td></td>\n",
       "      <td></td>\n",
       "      <td></td>\n",
       "      <td></td>\n",
       "      <td></td>\n",
       "      <td></td>\n",
       "      <td></td>\n",
       "      <td></td>\n",
       "    </tr>\n",
       "    <tr>\n",
       "      <th>1377</th>\n",
       "      <td>RLSRIVVIRVCR</td>\n",
       "      <td>0</td>\n",
       "      <td>R</td>\n",
       "      <td>L</td>\n",
       "      <td>S</td>\n",
       "      <td>R</td>\n",
       "      <td>I</td>\n",
       "      <td>V</td>\n",
       "      <td>V</td>\n",
       "      <td>I</td>\n",
       "      <td>...</td>\n",
       "      <td></td>\n",
       "      <td></td>\n",
       "      <td></td>\n",
       "      <td></td>\n",
       "      <td></td>\n",
       "      <td></td>\n",
       "      <td></td>\n",
       "      <td></td>\n",
       "      <td></td>\n",
       "      <td></td>\n",
       "    </tr>\n",
       "  </tbody>\n",
       "</table>\n",
       "<p>1378 rows × 52 columns</p>\n",
       "</div>"
      ],
      "text/plain": [
       "                                              sequences  label c1 c2 c3 c4 c5  \\\n",
       "0                                            RRWWRRWRRW      0  R  R  W  W  R   \n",
       "1                            GWKSVFRKAKKVGKTVGGLALDHYLG      0  G  W  K  S  V   \n",
       "2                    ALWKTMLKKLGTMALHAGKAALGAAADTISQGTQ      1  A  L  W  K  T   \n",
       "3                                      GLFDVIKKVAAVIGGL      1  G  L  F  D  V   \n",
       "4                                         VAKLLAKLAKKVL      1  V  A  K  L  L   \n",
       "...                                                 ...    ... .. .. .. .. ..   \n",
       "1373                                      LLKLLKWLLKLLK      0  L  L  K  L  L   \n",
       "1374                           GFKDWIKGAAKKLIKTVAANIANQ      0  G  F  K  D  W   \n",
       "1375  ESEFDRQEYEECKRQCMQLETSGQMRRCVSQCDKRFEEDIDWSKYDNQE      0  E  S  E  F  D   \n",
       "1376                                      FISAIASFLGKFL      1  F  I  S  A  I   \n",
       "1377                                       RLSRIVVIRVCR      0  R  L  S  R  I   \n",
       "\n",
       "     c6 c7 c8  ... c41 c42 c43 c44 c45 c46 c47 c48 c49 c50  \n",
       "0     R  W  R  ...                                          \n",
       "1     F  R  K  ...                                          \n",
       "2     M  L  K  ...                                          \n",
       "3     I  K  K  ...                                          \n",
       "4     A  K  L  ...                                          \n",
       "...  .. .. ..  ...  ..  ..  ..  ..  ..  ..  ..  ..  ..  ..  \n",
       "1373  K  W  L  ...                                          \n",
       "1374  I  K  G  ...                                          \n",
       "1375  R  Q  E  ...   D   W   S   K   Y   D   N   Q   E      \n",
       "1376  A  S  F  ...                                          \n",
       "1377  V  V  I  ...                                          \n",
       "\n",
       "[1378 rows x 52 columns]"
      ]
     },
     "execution_count": 14,
     "metadata": {},
     "output_type": "execute_result"
    }
   ],
   "source": [
    "df"
   ]
  },
  {
   "cell_type": "code",
   "execution_count": 15,
   "id": "796e0130",
   "metadata": {},
   "outputs": [],
   "source": [
    "letter_2num = {\n",
    "    s: i for i, s in enumerate(\n",
    "        ['','A', 'B', 'C', 'D', 'E', 'F', 'G','H','I','J','K','L','M',\n",
    "         'N','O','P','Q','R','S','T','U','V','W','X','Y','Z'])\n",
    "            }"
   ]
  },
  {
   "cell_type": "code",
   "execution_count": 16,
   "id": "c211aebb",
   "metadata": {},
   "outputs": [
    {
     "data": {
      "text/plain": [
       "{'': 0,\n",
       " 'A': 1,\n",
       " 'B': 2,\n",
       " 'C': 3,\n",
       " 'D': 4,\n",
       " 'E': 5,\n",
       " 'F': 6,\n",
       " 'G': 7,\n",
       " 'H': 8,\n",
       " 'I': 9,\n",
       " 'J': 10,\n",
       " 'K': 11,\n",
       " 'L': 12,\n",
       " 'M': 13,\n",
       " 'N': 14,\n",
       " 'O': 15,\n",
       " 'P': 16,\n",
       " 'Q': 17,\n",
       " 'R': 18,\n",
       " 'S': 19,\n",
       " 'T': 20,\n",
       " 'U': 21,\n",
       " 'V': 22,\n",
       " 'W': 23,\n",
       " 'X': 24,\n",
       " 'Y': 25,\n",
       " 'Z': 26}"
      ]
     },
     "execution_count": 16,
     "metadata": {},
     "output_type": "execute_result"
    }
   ],
   "source": [
    "letter_2num"
   ]
  },
  {
   "cell_type": "code",
   "execution_count": 17,
   "id": "29e6d339",
   "metadata": {},
   "outputs": [
    {
     "data": {
      "text/plain": [
       "Index(['c1', 'c2', 'c3', 'c4', 'c5', 'c6', 'c7', 'c8', 'c9', 'c10', 'c11',\n",
       "       'c12', 'c13', 'c14', 'c15', 'c16', 'c17', 'c18', 'c19', 'c20', 'c21',\n",
       "       'c22', 'c23', 'c24', 'c25', 'c26', 'c27', 'c28', 'c29', 'c30', 'c31',\n",
       "       'c32', 'c33', 'c34', 'c35', 'c36', 'c37', 'c38', 'c39', 'c40', 'c41',\n",
       "       'c42', 'c43', 'c44', 'c45', 'c46', 'c47', 'c48', 'c49', 'c50'],\n",
       "      dtype='object')"
      ]
     },
     "execution_count": 17,
     "metadata": {},
     "output_type": "execute_result"
    }
   ],
   "source": [
    "df.columns[2:]"
   ]
  },
  {
   "cell_type": "code",
   "execution_count": 18,
   "id": "3f2d6370",
   "metadata": {},
   "outputs": [],
   "source": [
    "for column in df.columns[2:]:\n",
    "    df[column] = df[column].replace(letter_2num)"
   ]
  },
  {
   "cell_type": "code",
   "execution_count": 19,
   "id": "644d6931",
   "metadata": {},
   "outputs": [
    {
     "data": {
      "text/html": [
       "<div>\n",
       "<style scoped>\n",
       "    .dataframe tbody tr th:only-of-type {\n",
       "        vertical-align: middle;\n",
       "    }\n",
       "\n",
       "    .dataframe tbody tr th {\n",
       "        vertical-align: top;\n",
       "    }\n",
       "\n",
       "    .dataframe thead th {\n",
       "        text-align: right;\n",
       "    }\n",
       "</style>\n",
       "<table border=\"1\" class=\"dataframe\">\n",
       "  <thead>\n",
       "    <tr style=\"text-align: right;\">\n",
       "      <th></th>\n",
       "      <th>sequences</th>\n",
       "      <th>label</th>\n",
       "      <th>c1</th>\n",
       "      <th>c2</th>\n",
       "      <th>c3</th>\n",
       "      <th>c4</th>\n",
       "      <th>c5</th>\n",
       "      <th>c6</th>\n",
       "      <th>c7</th>\n",
       "      <th>c8</th>\n",
       "      <th>...</th>\n",
       "      <th>c41</th>\n",
       "      <th>c42</th>\n",
       "      <th>c43</th>\n",
       "      <th>c44</th>\n",
       "      <th>c45</th>\n",
       "      <th>c46</th>\n",
       "      <th>c47</th>\n",
       "      <th>c48</th>\n",
       "      <th>c49</th>\n",
       "      <th>c50</th>\n",
       "    </tr>\n",
       "  </thead>\n",
       "  <tbody>\n",
       "    <tr>\n",
       "      <th>0</th>\n",
       "      <td>RRWWRRWRRW</td>\n",
       "      <td>0</td>\n",
       "      <td>18</td>\n",
       "      <td>18</td>\n",
       "      <td>23</td>\n",
       "      <td>23</td>\n",
       "      <td>18</td>\n",
       "      <td>18</td>\n",
       "      <td>23</td>\n",
       "      <td>18</td>\n",
       "      <td>...</td>\n",
       "      <td>0</td>\n",
       "      <td>0</td>\n",
       "      <td>0</td>\n",
       "      <td>0</td>\n",
       "      <td>0</td>\n",
       "      <td>0</td>\n",
       "      <td>0</td>\n",
       "      <td>0</td>\n",
       "      <td>0</td>\n",
       "      <td>0</td>\n",
       "    </tr>\n",
       "    <tr>\n",
       "      <th>1</th>\n",
       "      <td>GWKSVFRKAKKVGKTVGGLALDHYLG</td>\n",
       "      <td>0</td>\n",
       "      <td>7</td>\n",
       "      <td>23</td>\n",
       "      <td>11</td>\n",
       "      <td>19</td>\n",
       "      <td>22</td>\n",
       "      <td>6</td>\n",
       "      <td>18</td>\n",
       "      <td>11</td>\n",
       "      <td>...</td>\n",
       "      <td>0</td>\n",
       "      <td>0</td>\n",
       "      <td>0</td>\n",
       "      <td>0</td>\n",
       "      <td>0</td>\n",
       "      <td>0</td>\n",
       "      <td>0</td>\n",
       "      <td>0</td>\n",
       "      <td>0</td>\n",
       "      <td>0</td>\n",
       "    </tr>\n",
       "    <tr>\n",
       "      <th>2</th>\n",
       "      <td>ALWKTMLKKLGTMALHAGKAALGAAADTISQGTQ</td>\n",
       "      <td>1</td>\n",
       "      <td>1</td>\n",
       "      <td>12</td>\n",
       "      <td>23</td>\n",
       "      <td>11</td>\n",
       "      <td>20</td>\n",
       "      <td>13</td>\n",
       "      <td>12</td>\n",
       "      <td>11</td>\n",
       "      <td>...</td>\n",
       "      <td>0</td>\n",
       "      <td>0</td>\n",
       "      <td>0</td>\n",
       "      <td>0</td>\n",
       "      <td>0</td>\n",
       "      <td>0</td>\n",
       "      <td>0</td>\n",
       "      <td>0</td>\n",
       "      <td>0</td>\n",
       "      <td>0</td>\n",
       "    </tr>\n",
       "    <tr>\n",
       "      <th>3</th>\n",
       "      <td>GLFDVIKKVAAVIGGL</td>\n",
       "      <td>1</td>\n",
       "      <td>7</td>\n",
       "      <td>12</td>\n",
       "      <td>6</td>\n",
       "      <td>4</td>\n",
       "      <td>22</td>\n",
       "      <td>9</td>\n",
       "      <td>11</td>\n",
       "      <td>11</td>\n",
       "      <td>...</td>\n",
       "      <td>0</td>\n",
       "      <td>0</td>\n",
       "      <td>0</td>\n",
       "      <td>0</td>\n",
       "      <td>0</td>\n",
       "      <td>0</td>\n",
       "      <td>0</td>\n",
       "      <td>0</td>\n",
       "      <td>0</td>\n",
       "      <td>0</td>\n",
       "    </tr>\n",
       "    <tr>\n",
       "      <th>4</th>\n",
       "      <td>VAKLLAKLAKKVL</td>\n",
       "      <td>1</td>\n",
       "      <td>22</td>\n",
       "      <td>1</td>\n",
       "      <td>11</td>\n",
       "      <td>12</td>\n",
       "      <td>12</td>\n",
       "      <td>1</td>\n",
       "      <td>11</td>\n",
       "      <td>12</td>\n",
       "      <td>...</td>\n",
       "      <td>0</td>\n",
       "      <td>0</td>\n",
       "      <td>0</td>\n",
       "      <td>0</td>\n",
       "      <td>0</td>\n",
       "      <td>0</td>\n",
       "      <td>0</td>\n",
       "      <td>0</td>\n",
       "      <td>0</td>\n",
       "      <td>0</td>\n",
       "    </tr>\n",
       "    <tr>\n",
       "      <th>5</th>\n",
       "      <td>IIGHLIKTALGFLGL</td>\n",
       "      <td>0</td>\n",
       "      <td>9</td>\n",
       "      <td>9</td>\n",
       "      <td>7</td>\n",
       "      <td>8</td>\n",
       "      <td>12</td>\n",
       "      <td>9</td>\n",
       "      <td>11</td>\n",
       "      <td>20</td>\n",
       "      <td>...</td>\n",
       "      <td>0</td>\n",
       "      <td>0</td>\n",
       "      <td>0</td>\n",
       "      <td>0</td>\n",
       "      <td>0</td>\n",
       "      <td>0</td>\n",
       "      <td>0</td>\n",
       "      <td>0</td>\n",
       "      <td>0</td>\n",
       "      <td>0</td>\n",
       "    </tr>\n",
       "    <tr>\n",
       "      <th>6</th>\n",
       "      <td>FLPLLASLFSRLL</td>\n",
       "      <td>1</td>\n",
       "      <td>6</td>\n",
       "      <td>12</td>\n",
       "      <td>16</td>\n",
       "      <td>12</td>\n",
       "      <td>12</td>\n",
       "      <td>1</td>\n",
       "      <td>19</td>\n",
       "      <td>12</td>\n",
       "      <td>...</td>\n",
       "      <td>0</td>\n",
       "      <td>0</td>\n",
       "      <td>0</td>\n",
       "      <td>0</td>\n",
       "      <td>0</td>\n",
       "      <td>0</td>\n",
       "      <td>0</td>\n",
       "      <td>0</td>\n",
       "      <td>0</td>\n",
       "      <td>0</td>\n",
       "    </tr>\n",
       "    <tr>\n",
       "      <th>7</th>\n",
       "      <td>WFKKIPKFLHLAKKF</td>\n",
       "      <td>1</td>\n",
       "      <td>23</td>\n",
       "      <td>6</td>\n",
       "      <td>11</td>\n",
       "      <td>11</td>\n",
       "      <td>9</td>\n",
       "      <td>16</td>\n",
       "      <td>11</td>\n",
       "      <td>6</td>\n",
       "      <td>...</td>\n",
       "      <td>0</td>\n",
       "      <td>0</td>\n",
       "      <td>0</td>\n",
       "      <td>0</td>\n",
       "      <td>0</td>\n",
       "      <td>0</td>\n",
       "      <td>0</td>\n",
       "      <td>0</td>\n",
       "      <td>0</td>\n",
       "      <td>0</td>\n",
       "    </tr>\n",
       "    <tr>\n",
       "      <th>8</th>\n",
       "      <td>ATCDLLSKWNWNHTACAGHCIAKGFKGGYCNDKAVCVCRN</td>\n",
       "      <td>1</td>\n",
       "      <td>1</td>\n",
       "      <td>20</td>\n",
       "      <td>3</td>\n",
       "      <td>4</td>\n",
       "      <td>12</td>\n",
       "      <td>12</td>\n",
       "      <td>19</td>\n",
       "      <td>11</td>\n",
       "      <td>...</td>\n",
       "      <td>0</td>\n",
       "      <td>0</td>\n",
       "      <td>0</td>\n",
       "      <td>0</td>\n",
       "      <td>0</td>\n",
       "      <td>0</td>\n",
       "      <td>0</td>\n",
       "      <td>0</td>\n",
       "      <td>0</td>\n",
       "      <td>0</td>\n",
       "    </tr>\n",
       "    <tr>\n",
       "      <th>9</th>\n",
       "      <td>NIPQLTPTP</td>\n",
       "      <td>0</td>\n",
       "      <td>14</td>\n",
       "      <td>9</td>\n",
       "      <td>16</td>\n",
       "      <td>17</td>\n",
       "      <td>12</td>\n",
       "      <td>20</td>\n",
       "      <td>16</td>\n",
       "      <td>20</td>\n",
       "      <td>...</td>\n",
       "      <td>0</td>\n",
       "      <td>0</td>\n",
       "      <td>0</td>\n",
       "      <td>0</td>\n",
       "      <td>0</td>\n",
       "      <td>0</td>\n",
       "      <td>0</td>\n",
       "      <td>0</td>\n",
       "      <td>0</td>\n",
       "      <td>0</td>\n",
       "    </tr>\n",
       "  </tbody>\n",
       "</table>\n",
       "<p>10 rows × 52 columns</p>\n",
       "</div>"
      ],
      "text/plain": [
       "                                  sequences  label  c1  c2  c3  c4  c5  c6  \\\n",
       "0                                RRWWRRWRRW      0  18  18  23  23  18  18   \n",
       "1                GWKSVFRKAKKVGKTVGGLALDHYLG      0   7  23  11  19  22   6   \n",
       "2        ALWKTMLKKLGTMALHAGKAALGAAADTISQGTQ      1   1  12  23  11  20  13   \n",
       "3                          GLFDVIKKVAAVIGGL      1   7  12   6   4  22   9   \n",
       "4                             VAKLLAKLAKKVL      1  22   1  11  12  12   1   \n",
       "5                           IIGHLIKTALGFLGL      0   9   9   7   8  12   9   \n",
       "6                             FLPLLASLFSRLL      1   6  12  16  12  12   1   \n",
       "7                           WFKKIPKFLHLAKKF      1  23   6  11  11   9  16   \n",
       "8  ATCDLLSKWNWNHTACAGHCIAKGFKGGYCNDKAVCVCRN      1   1  20   3   4  12  12   \n",
       "9                                 NIPQLTPTP      0  14   9  16  17  12  20   \n",
       "\n",
       "   c7  c8  ...  c41  c42  c43  c44  c45  c46  c47  c48  c49  c50  \n",
       "0  23  18  ...    0    0    0    0    0    0    0    0    0    0  \n",
       "1  18  11  ...    0    0    0    0    0    0    0    0    0    0  \n",
       "2  12  11  ...    0    0    0    0    0    0    0    0    0    0  \n",
       "3  11  11  ...    0    0    0    0    0    0    0    0    0    0  \n",
       "4  11  12  ...    0    0    0    0    0    0    0    0    0    0  \n",
       "5  11  20  ...    0    0    0    0    0    0    0    0    0    0  \n",
       "6  19  12  ...    0    0    0    0    0    0    0    0    0    0  \n",
       "7  11   6  ...    0    0    0    0    0    0    0    0    0    0  \n",
       "8  19  11  ...    0    0    0    0    0    0    0    0    0    0  \n",
       "9  16  20  ...    0    0    0    0    0    0    0    0    0    0  \n",
       "\n",
       "[10 rows x 52 columns]"
      ]
     },
     "execution_count": 19,
     "metadata": {},
     "output_type": "execute_result"
    }
   ],
   "source": [
    "df.fillna(0)\n",
    "df.head(10)"
   ]
  },
  {
   "cell_type": "code",
   "execution_count": 20,
   "id": "c12559ed",
   "metadata": {},
   "outputs": [],
   "source": [
    "y_train = df['label'].values\n",
    "X_train = df.drop(columns=['sequences','label']).values"
   ]
  },
  {
   "cell_type": "code",
   "execution_count": 21,
   "id": "8ff1804a",
   "metadata": {},
   "outputs": [
    {
     "data": {
      "text/plain": [
       "array([0, 0, 1, ..., 0, 1, 0])"
      ]
     },
     "execution_count": 21,
     "metadata": {},
     "output_type": "execute_result"
    }
   ],
   "source": [
    "y_train"
   ]
  },
  {
   "cell_type": "code",
   "execution_count": 22,
   "id": "6dc0d4b6",
   "metadata": {},
   "outputs": [
    {
     "data": {
      "text/plain": [
       "array([[18, 18, 23, ...,  0,  0,  0],\n",
       "       [ 7, 23, 11, ...,  0,  0,  0],\n",
       "       [ 1, 12, 23, ...,  0,  0,  0],\n",
       "       ...,\n",
       "       [ 5, 19,  5, ..., 17,  5,  0],\n",
       "       [ 6,  9, 19, ...,  0,  0,  0],\n",
       "       [18, 12, 19, ...,  0,  0,  0]])"
      ]
     },
     "execution_count": 22,
     "metadata": {},
     "output_type": "execute_result"
    }
   ],
   "source": [
    "X_train"
   ]
  },
  {
   "cell_type": "code",
   "execution_count": 23,
   "id": "775782b9",
   "metadata": {},
   "outputs": [
    {
     "data": {
      "text/plain": [
       "array([0., 0., 1., ..., 0., 1., 0.])"
      ]
     },
     "execution_count": 23,
     "metadata": {},
     "output_type": "execute_result"
    }
   ],
   "source": [
    "import numpy as np\n",
    "#X_train[X_train == ''] = 0 # not needed anymore\n",
    "X_train.astype(np.float64)\n",
    "y_train.astype(np.float64)"
   ]
  },
  {
   "cell_type": "code",
   "execution_count": 25,
   "id": "cf0389aa",
   "metadata": {},
   "outputs": [
    {
     "data": {
      "text/plain": [
       "array([0., 0., 0., 1., 0., 0., 1., 1., 1., 0., 1., 0., 0., 1., 1., 1., 1.,\n",
       "       0., 1., 1., 0., 0., 0., 0., 1., 1., 0., 1., 0., 1., 1., 1., 0., 1.,\n",
       "       1., 0., 1., 1., 0., 1., 1., 1., 1., 0., 0., 0., 1., 0., 0., 1., 1.,\n",
       "       0., 1., 1., 0., 0., 0., 1., 1., 1., 0., 1., 0., 0., 1., 1., 1., 0.,\n",
       "       1., 1., 1., 1., 1., 0., 0., 0., 0., 1., 1., 0., 0., 0., 1., 1., 0.,\n",
       "       1., 0., 1., 0., 0., 1., 1., 0., 0., 1., 0., 0., 1., 0., 0., 0., 0.,\n",
       "       1., 1., 0., 1., 0., 0., 0., 1., 0., 0., 1., 1., 0., 1., 0., 0., 1.,\n",
       "       1., 0., 1., 0., 0., 1., 0., 0., 1., 0., 1., 1., 1., 1., 0., 0., 1.,\n",
       "       0., 1., 0., 0., 0., 1., 0., 1., 0., 0., 1., 0., 1., 0., 0., 0., 1.,\n",
       "       1., 1., 1., 0., 1., 0., 0., 1., 1., 0., 1., 1., 1., 1., 1., 0., 0.,\n",
       "       0., 0., 0., 0., 1., 1., 1., 0., 1., 1., 1., 1., 1., 1., 1., 1., 0.,\n",
       "       0., 1., 0., 1., 0., 1., 0., 0., 0., 1., 1., 0., 0., 0., 1., 0., 0.,\n",
       "       1., 0., 0., 0., 1., 0., 1., 1., 0., 0., 1., 0., 0., 0., 0., 0., 0.,\n",
       "       0., 0., 0., 1., 0., 0., 1., 1., 0., 1., 0., 1., 1., 0., 1., 1., 1.,\n",
       "       0., 0., 1., 0., 1., 1., 1., 1., 1., 1., 1., 0., 0., 1., 0., 1., 0.,\n",
       "       1., 1., 0., 1., 0., 1., 0., 1., 0., 1., 0., 1., 1., 0., 0., 0., 0.,\n",
       "       1., 0., 0., 1., 0., 1., 0., 1., 0., 0., 1., 1., 1., 1., 0., 1., 0.,\n",
       "       0., 0., 1., 1., 0., 0., 1., 0., 1., 1., 0., 1., 1., 1., 1., 0., 1.,\n",
       "       1., 0., 1., 1., 1., 0., 0., 0., 0., 1., 0., 1., 0., 0., 1., 1., 1.,\n",
       "       0., 0., 1., 1., 1., 0., 0., 0., 0., 0., 0., 1., 1., 1., 0., 1., 0.,\n",
       "       0., 1., 0., 1.])"
      ]
     },
     "execution_count": 25,
     "metadata": {},
     "output_type": "execute_result"
    }
   ],
   "source": [
    "#repeat for test data\n",
    "df2 = pd.read_csv('data/acp/test_data.csv')\n",
    "df2[['c1','c2','c3','c4','c5','c6','c7','c8','c9','c10',\n",
    " 'c11','c12','c13','c14','c15','c16','c17','c18','c19','c20',\n",
    " 'c21','c22','c23','c24','c25','c26','c27','c28','c29','c30',\n",
    " 'c31','c32','c33','c34','c35','c36','c37','c38','c39','c40',\n",
    " 'c41','c42','c43','c44','c45','c46','c47','c48','c49',\n",
    " 'c50']] = df2.apply(splitchain,axis=1)\n",
    "for column in df2.columns[2:]:\n",
    "    df2[column] = df2[column].replace(letter_2num)\n",
    "y_test = df2['label'].values\n",
    "X_test = df2.drop(columns=['sequences','label']).values\n",
    "X_test.astype(np.float64)\n",
    "y_test.astype(np.float64)"
   ]
  },
  {
   "cell_type": "code",
   "execution_count": 26,
   "id": "9d198607",
   "metadata": {},
   "outputs": [],
   "source": [
    "#scale the features, applying MinMaxScaler\n",
    "\n",
    "from sklearn.preprocessing import MinMaxScaler\n",
    "\n",
    "scaler = MinMaxScaler() # YOUR CODE HERE\n",
    "X_train = scaler.fit_transform(X_train) # YOUR CODE HERE\n",
    "X_test = scaler.fit_transform(X_test) # YOUR CODE HERE"
   ]
  },
  {
   "cell_type": "markdown",
   "id": "f2d65bcc",
   "metadata": {
    "slideshow": {
     "slide_type": "notes"
    }
   },
   "source": [
    "# Task 2 - Neural Network logistic regression model"
   ]
  },
  {
   "cell_type": "code",
   "execution_count": 27,
   "id": "03e1b1a4",
   "metadata": {},
   "outputs": [
    {
     "name": "stderr",
     "output_type": "stream",
     "text": [
      "2023-02-23 08:50:42.717389: I tensorflow/core/platform/cpu_feature_guard.cc:193] This TensorFlow binary is optimized with oneAPI Deep Neural Network Library (oneDNN) to use the following CPU instructions in performance-critical operations:  AVX2 FMA\n",
      "To enable them in other operations, rebuild TensorFlow with the appropriate compiler flags.\n"
     ]
    },
    {
     "name": "stdout",
     "output_type": "stream",
     "text": [
      "2.11.0\n"
     ]
    }
   ],
   "source": [
    "import tensorflow as tf\n",
    "from tensorflow.keras import layers\n",
    "\n",
    "print(tf.__version__)"
   ]
  },
  {
   "cell_type": "code",
   "execution_count": 28,
   "id": "4a1c6f23",
   "metadata": {},
   "outputs": [
    {
     "name": "stderr",
     "output_type": "stream",
     "text": [
      "2023-02-23 08:51:04.173402: I tensorflow/core/platform/cpu_feature_guard.cc:193] This TensorFlow binary is optimized with oneAPI Deep Neural Network Library (oneDNN) to use the following CPU instructions in performance-critical operations:  AVX2 FMA\n",
      "To enable them in other operations, rebuild TensorFlow with the appropriate compiler flags.\n"
     ]
    },
    {
     "name": "stdout",
     "output_type": "stream",
     "text": [
      "feature mean: [0.35307813 0.44871795 0.46308053 0.4658345  0.47236574 0.42960814\n",
      " 0.47044986 0.45483306 0.44034833 0.39970967 0.4136719  0.41468793\n",
      " 0.39924517 0.330479   0.35622644 0.33018863 0.30148035 0.26763424\n",
      " 0.2608128  0.25669083 0.23625539 0.22792453 0.21875186 0.21294631\n",
      " 0.19808415 0.18423797 0.15648766 0.15259796 0.16017416 0.14737299\n",
      " 0.12153846 0.12078377 0.10208997 0.08943396 0.08786647 0.08081277\n",
      " 0.08888242 0.06119013 0.05730044 0.05216255 0.0476923  0.041045\n",
      " 0.03805136 0.03373004 0.02786647 0.02104499 0.01529753 0.00908563\n",
      " 0.00722391 0.00385935]\n",
      "\n",
      "feature variance: [0.05780513 0.07481482 0.06881841 0.06579876 0.06121428 0.07070303\n",
      " 0.05879877 0.06394369 0.08054791 0.0767999  0.0651077  0.07105508\n",
      " 0.08477388 0.08358134 0.08904932 0.09308282 0.09696211 0.08092923\n",
      " 0.08056652 0.08972663 0.08871399 0.08817232 0.08589047 0.0883572\n",
      " 0.08362597 0.08625955 0.07249041 0.07187672 0.07862523 0.07439382\n",
      " 0.05754073 0.06391694 0.05025341 0.04733393 0.04704754 0.04422343\n",
      " 0.05371268 0.03409612 0.03253204 0.02978648 0.02826825 0.02381313\n",
      " 0.02250122 0.02122513 0.01713695 0.01149208 0.00952041 0.00620018\n",
      " 0.00475326 0.00261048]\n"
     ]
    }
   ],
   "source": [
    "normalizer = tf.keras.layers.Normalization() # YOUR CODE HERE\n",
    "normalizer.adapt(X_train) # adapt blank stuff\n",
    "print(f'feature mean: {normalizer.mean.numpy().squeeze()}\\n')\n",
    "print(f'feature variance: {normalizer.variance.numpy().squeeze()}')"
   ]
  },
  {
   "cell_type": "code",
   "execution_count": 29,
   "id": "9d5e2928",
   "metadata": {},
   "outputs": [],
   "source": [
    "def build_and_compile_model(norm):\n",
    "    model = tf.keras.Sequential([\n",
    "        norm,\n",
    "        tf.keras.layers.Dense(units=48, activation='relu', input_shape=(50,)),\n",
    "        tf.keras.layers.Dense(units = 24, activation='relu'),\n",
    "        tf.keras.layers.Dense(units = 12, activation='relu'),\n",
    "        tf.keras.layers.Dense(1,activation='relu'),        \n",
    "    ]) # YOUR CODE HERE\n",
    "    \n",
    "    model.compile(optimizer=tf.optimizers.SGD(learning_rate=0.001), \n",
    "                  loss='binary_crossentropy', metrics=['accuracy'])\n",
    "    return model"
   ]
  },
  {
   "cell_type": "code",
   "execution_count": 30,
   "id": "982f238e",
   "metadata": {},
   "outputs": [],
   "source": [
    "log_model = build_and_compile_model(normalizer)"
   ]
  },
  {
   "cell_type": "code",
   "execution_count": 31,
   "id": "7970ed89",
   "metadata": {},
   "outputs": [
    {
     "name": "stdout",
     "output_type": "stream",
     "text": [
      "Model: \"sequential\"\n",
      "_________________________________________________________________\n",
      " Layer (type)                Output Shape              Param #   \n",
      "=================================================================\n",
      " normalization (Normalizatio  (None, 50)               101       \n",
      " n)                                                              \n",
      "                                                                 \n",
      " dense (Dense)               (None, 48)                2448      \n",
      "                                                                 \n",
      " dense_1 (Dense)             (None, 24)                1176      \n",
      "                                                                 \n",
      " dense_2 (Dense)             (None, 12)                300       \n",
      "                                                                 \n",
      " dense_3 (Dense)             (None, 1)                 13        \n",
      "                                                                 \n",
      "=================================================================\n",
      "Total params: 4,038\n",
      "Trainable params: 3,937\n",
      "Non-trainable params: 101\n",
      "_________________________________________________________________\n"
     ]
    }
   ],
   "source": [
    "log_model.summary()"
   ]
  },
  {
   "cell_type": "code",
   "execution_count": 32,
   "id": "d565559a",
   "metadata": {},
   "outputs": [
    {
     "name": "stdout",
     "output_type": "stream",
     "text": [
      "CPU times: user 10.9 s, sys: 630 ms, total: 11.5 s\n",
      "Wall time: 10.9 s\n"
     ]
    }
   ],
   "source": [
    "%%time\n",
    "history = log_model.fit(\n",
    "    X_train,\n",
    "    y_train,\n",
    "    validation_split=0.2,\n",
    "    verbose=0, epochs=100)"
   ]
  },
  {
   "cell_type": "code",
   "execution_count": 33,
   "id": "98b7a5aa",
   "metadata": {},
   "outputs": [
    {
     "data": {
      "text/plain": [
       "array([0, 0, 1, ..., 0, 1, 0])"
      ]
     },
     "execution_count": 33,
     "metadata": {},
     "output_type": "execute_result"
    }
   ],
   "source": [
    "y_train"
   ]
  },
  {
   "cell_type": "code",
   "execution_count": 34,
   "id": "4289e948",
   "metadata": {},
   "outputs": [
    {
     "name": "stdout",
     "output_type": "stream",
     "text": [
      "11/11 [==============================] - 0s 2ms/step\n"
     ]
    },
    {
     "data": {
      "text/plain": [
       "[9.276144027709961, 0.39534884691238403]"
      ]
     },
     "execution_count": 34,
     "metadata": {},
     "output_type": "execute_result"
    }
   ],
   "source": [
    "prediction = log_model.predict(X_test)\n",
    "prediction = (prediction > 0.5).astype(int)\n",
    "log_model.evaluate(prediction, y_test, verbose=0)"
   ]
  },
  {
   "cell_type": "code",
   "execution_count": 35,
   "id": "dd3f8211",
   "metadata": {},
   "outputs": [
    {
     "data": {
      "text/plain": [
       "array([[1],\n",
       "       [0],\n",
       "       [0],\n",
       "       [1],\n",
       "       [1],\n",
       "       [1],\n",
       "       [1],\n",
       "       [0],\n",
       "       [0],\n",
       "       [1]])"
      ]
     },
     "execution_count": 35,
     "metadata": {},
     "output_type": "execute_result"
    }
   ],
   "source": [
    "prediction[0:10]"
   ]
  },
  {
   "cell_type": "code",
   "execution_count": 36,
   "id": "f70c7b80",
   "metadata": {},
   "outputs": [
    {
     "data": {
      "text/plain": [
       "array([0, 0, 0, 1, 0])"
      ]
     },
     "execution_count": 36,
     "metadata": {},
     "output_type": "execute_result"
    }
   ],
   "source": [
    "y_test[0:5]"
   ]
  },
  {
   "cell_type": "code",
   "execution_count": 37,
   "id": "dbef0193",
   "metadata": {},
   "outputs": [],
   "source": [
    "test = y_test.reshape(-1, 1)"
   ]
  },
  {
   "cell_type": "code",
   "execution_count": 38,
   "id": "04ecb866",
   "metadata": {},
   "outputs": [
    {
     "data": {
      "text/plain": [
       "array([[0],\n",
       "       [0],\n",
       "       [0],\n",
       "       [1],\n",
       "       [0]])"
      ]
     },
     "execution_count": 38,
     "metadata": {},
     "output_type": "execute_result"
    }
   ],
   "source": [
    "test[0:5]"
   ]
  },
  {
   "cell_type": "code",
   "execution_count": 39,
   "id": "e9fb7828",
   "metadata": {},
   "outputs": [
    {
     "name": "stdout",
     "output_type": "stream",
     "text": [
      "number of predictions:  344  Number of test:  344\n"
     ]
    }
   ],
   "source": [
    "print(\"number of predictions: \",prediction.size,\" Number of test: \",y_test.size)"
   ]
  },
  {
   "cell_type": "code",
   "execution_count": 40,
   "id": "577d496e",
   "metadata": {},
   "outputs": [
    {
     "name": "stdout",
     "output_type": "stream",
     "text": [
      "accuracy: 0.6046511627906976\n",
      "precision: 0.5989010989010989\n",
      "recall: 0.6337209302325582\n",
      "f1 score: 0.6158192090395481\n",
      "confusion matrix:\n",
      "[[ 99  73]\n",
      " [ 63 109]]\n"
     ]
    }
   ],
   "source": [
    "from sklearn.metrics import (\n",
    "    confusion_matrix,\n",
    "    accuracy_score as accuracy,\n",
    "    recall_score as recall,\n",
    "    precision_score as precision,\n",
    "    f1_score\n",
    ")\n",
    "print(\"accuracy:\", accuracy(test, prediction))\n",
    "print(\"precision:\", precision(test, prediction))\n",
    "print(\"recall:\", recall(test, prediction))\n",
    "print(\"f1 score:\", f1_score(test, prediction))\n",
    "print(\"confusion matrix:\")\n",
    "print(confusion_matrix(test, prediction))"
   ]
  },
  {
   "cell_type": "markdown",
   "id": "8853b1a4",
   "metadata": {},
   "source": [
    "# Other Classifications"
   ]
  },
  {
   "cell_type": "code",
   "execution_count": 41,
   "id": "6d1c4caa",
   "metadata": {},
   "outputs": [],
   "source": [
    "from sklearn.ensemble import GradientBoostingClassifier"
   ]
  },
  {
   "cell_type": "code",
   "execution_count": 42,
   "id": "69369e06",
   "metadata": {},
   "outputs": [
    {
     "name": "stdout",
     "output_type": "stream",
     "text": [
      "CPU times: user 533 ms, sys: 3.87 ms, total: 537 ms\n",
      "Wall time: 544 ms\n"
     ]
    }
   ],
   "source": [
    "%%time\n",
    "gbt_model = GradientBoostingClassifier(random_state=42) # YOUR CODE HERE\n",
    "gbt_model.fit(X_train, y_train)\n",
    "gbt_pred = gbt_model.predict(X_test)"
   ]
  },
  {
   "cell_type": "code",
   "execution_count": 43,
   "id": "857a3f8b",
   "metadata": {},
   "outputs": [
    {
     "name": "stdout",
     "output_type": "stream",
     "text": [
      "accuracy: 0.7412790697674418\n",
      "precision: 0.7485029940119761\n",
      "recall: 0.7267441860465116\n",
      "f1 score: 0.7374631268436578\n",
      "confusion matrix:\n",
      "[[130  42]\n",
      " [ 47 125]]\n"
     ]
    }
   ],
   "source": [
    "from sklearn.metrics import (\n",
    "    confusion_matrix,\n",
    "    accuracy_score as accuracy,\n",
    "    recall_score as recall,\n",
    "    precision_score as precision,\n",
    "    f1_score\n",
    ")\n",
    "print(\"accuracy:\", accuracy(y_test, gbt_pred))\n",
    "print(\"precision:\", precision(y_test, gbt_pred))\n",
    "print(\"recall:\", recall(y_test, gbt_pred))\n",
    "print(\"f1 score:\", f1_score(y_test, gbt_pred))\n",
    "print(\"confusion matrix:\")\n",
    "print(confusion_matrix(y_test, gbt_pred))"
   ]
  },
  {
   "cell_type": "code",
   "execution_count": 44,
   "id": "ce558760",
   "metadata": {},
   "outputs": [
    {
     "data": {
      "text/html": [
       "<div>\n",
       "<style scoped>\n",
       "    .dataframe tbody tr th:only-of-type {\n",
       "        vertical-align: middle;\n",
       "    }\n",
       "\n",
       "    .dataframe tbody tr th {\n",
       "        vertical-align: top;\n",
       "    }\n",
       "\n",
       "    .dataframe thead th {\n",
       "        text-align: right;\n",
       "    }\n",
       "</style>\n",
       "<table border=\"1\" class=\"dataframe\">\n",
       "  <thead>\n",
       "    <tr style=\"text-align: right;\">\n",
       "      <th></th>\n",
       "      <th>sequences</th>\n",
       "      <th>label</th>\n",
       "      <th>c1</th>\n",
       "      <th>c2</th>\n",
       "      <th>c3</th>\n",
       "      <th>c4</th>\n",
       "      <th>c5</th>\n",
       "      <th>c6</th>\n",
       "      <th>c7</th>\n",
       "      <th>c8</th>\n",
       "      <th>...</th>\n",
       "      <th>c41</th>\n",
       "      <th>c42</th>\n",
       "      <th>c43</th>\n",
       "      <th>c44</th>\n",
       "      <th>c45</th>\n",
       "      <th>c46</th>\n",
       "      <th>c47</th>\n",
       "      <th>c48</th>\n",
       "      <th>c49</th>\n",
       "      <th>c50</th>\n",
       "    </tr>\n",
       "  </thead>\n",
       "  <tbody>\n",
       "    <tr>\n",
       "      <th>0</th>\n",
       "      <td>RRWWRRWRRW</td>\n",
       "      <td>0</td>\n",
       "      <td>18</td>\n",
       "      <td>18</td>\n",
       "      <td>23</td>\n",
       "      <td>23</td>\n",
       "      <td>18</td>\n",
       "      <td>18</td>\n",
       "      <td>23</td>\n",
       "      <td>18</td>\n",
       "      <td>...</td>\n",
       "      <td>0</td>\n",
       "      <td>0</td>\n",
       "      <td>0</td>\n",
       "      <td>0</td>\n",
       "      <td>0</td>\n",
       "      <td>0</td>\n",
       "      <td>0</td>\n",
       "      <td>0</td>\n",
       "      <td>0</td>\n",
       "      <td>0</td>\n",
       "    </tr>\n",
       "    <tr>\n",
       "      <th>1</th>\n",
       "      <td>GWKSVFRKAKKVGKTVGGLALDHYLG</td>\n",
       "      <td>0</td>\n",
       "      <td>7</td>\n",
       "      <td>23</td>\n",
       "      <td>11</td>\n",
       "      <td>19</td>\n",
       "      <td>22</td>\n",
       "      <td>6</td>\n",
       "      <td>18</td>\n",
       "      <td>11</td>\n",
       "      <td>...</td>\n",
       "      <td>0</td>\n",
       "      <td>0</td>\n",
       "      <td>0</td>\n",
       "      <td>0</td>\n",
       "      <td>0</td>\n",
       "      <td>0</td>\n",
       "      <td>0</td>\n",
       "      <td>0</td>\n",
       "      <td>0</td>\n",
       "      <td>0</td>\n",
       "    </tr>\n",
       "  </tbody>\n",
       "</table>\n",
       "<p>2 rows × 52 columns</p>\n",
       "</div>"
      ],
      "text/plain": [
       "                    sequences  label  c1  c2  c3  c4  c5  c6  c7  c8  ...  \\\n",
       "0                  RRWWRRWRRW      0  18  18  23  23  18  18  23  18  ...   \n",
       "1  GWKSVFRKAKKVGKTVGGLALDHYLG      0   7  23  11  19  22   6  18  11  ...   \n",
       "\n",
       "   c41  c42  c43  c44  c45  c46  c47  c48  c49  c50  \n",
       "0    0    0    0    0    0    0    0    0    0    0  \n",
       "1    0    0    0    0    0    0    0    0    0    0  \n",
       "\n",
       "[2 rows x 52 columns]"
      ]
     },
     "execution_count": 44,
     "metadata": {},
     "output_type": "execute_result"
    }
   ],
   "source": [
    "df.head(2)"
   ]
  },
  {
   "cell_type": "code",
   "execution_count": 45,
   "id": "b87a15b3",
   "metadata": {},
   "outputs": [
    {
     "data": {
      "text/plain": [
       "label    float64\n",
       "c1       float64\n",
       "c2       float64\n",
       "c3       float64\n",
       "c4       float64\n",
       "c5       float64\n",
       "c6       float64\n",
       "c7       float64\n",
       "c8       float64\n",
       "c9       float64\n",
       "c10      float64\n",
       "c11      float64\n",
       "c12      float64\n",
       "c13      float64\n",
       "c14      float64\n",
       "c15      float64\n",
       "c16      float64\n",
       "c17      float64\n",
       "c18      float64\n",
       "c19      float64\n",
       "c20      float64\n",
       "c21      float64\n",
       "c22      float64\n",
       "c23      float64\n",
       "c24      float64\n",
       "c25      float64\n",
       "c26      float64\n",
       "c27      float64\n",
       "c28      float64\n",
       "c29      float64\n",
       "c30      float64\n",
       "c31      float64\n",
       "c32      float64\n",
       "c33      float64\n",
       "c34      float64\n",
       "c35      float64\n",
       "c36      float64\n",
       "c37      float64\n",
       "c38      float64\n",
       "c39      float64\n",
       "c40      float64\n",
       "c41      float64\n",
       "c42      float64\n",
       "c43      float64\n",
       "c44      float64\n",
       "c45      float64\n",
       "c46      float64\n",
       "c47      float64\n",
       "c48      float64\n",
       "c49      float64\n",
       "c50      float64\n",
       "dtype: object"
      ]
     },
     "execution_count": 45,
     "metadata": {},
     "output_type": "execute_result"
    }
   ],
   "source": [
    "train_df = df.drop(columns=['sequences'],axis=1)\n",
    "train_df = train_df.astype(float)\n",
    "train_df.dtypes"
   ]
  },
  {
   "cell_type": "code",
   "execution_count": 46,
   "id": "adb33978",
   "metadata": {},
   "outputs": [],
   "source": [
    "train_features = train_df\n",
    "train_label = train_features.pop('label')"
   ]
  },
  {
   "cell_type": "code",
   "execution_count": 47,
   "id": "427031cc",
   "metadata": {},
   "outputs": [
    {
     "data": {
      "text/plain": [
       "0       0.0\n",
       "1       0.0\n",
       "2       1.0\n",
       "3       1.0\n",
       "4       1.0\n",
       "       ... \n",
       "1373    0.0\n",
       "1374    0.0\n",
       "1375    0.0\n",
       "1376    1.0\n",
       "1377    0.0\n",
       "Name: label, Length: 1378, dtype: float64"
      ]
     },
     "execution_count": 47,
     "metadata": {},
     "output_type": "execute_result"
    }
   ],
   "source": [
    "train_label"
   ]
  },
  {
   "cell_type": "code",
   "execution_count": 48,
   "id": "a4023667",
   "metadata": {},
   "outputs": [],
   "source": [
    "test_df = df2.drop(columns=['sequences'],axis=1)\n",
    "test_df = test_df.astype(float)\n",
    "test_features = test_df\n",
    "test_label = test_features.pop('label')"
   ]
  },
  {
   "cell_type": "code",
   "execution_count": 49,
   "id": "f61ce1b8",
   "metadata": {},
   "outputs": [
    {
     "data": {
      "application/vnd.jupyter.widget-view+json": {
       "model_id": "",
       "version_major": 2,
       "version_minor": 0
      },
      "text/plain": [
       "Optimization Progress:   0%|          | 0/176 [00:00<?, ?pipeline/s]"
      ]
     },
     "metadata": {},
     "output_type": "display_data"
    },
    {
     "name": "stdout",
     "output_type": "stream",
     "text": [
      "\n",
      "Generation 1 - Current best internal CV score: 0.7334572625009963\n",
      "\n",
      "Generation 2 - Current best internal CV score: 0.7442189202595578\n",
      "\n",
      "Generation 3 - Current best internal CV score: 0.7532319076736094\n",
      "\n",
      "Generation 4 - Current best internal CV score: 0.7536963400738493\n",
      "\n",
      "Generation 5 - Current best internal CV score: 0.7538122872429566\n",
      "\n",
      "Generation 6 - Current best internal CV score: 0.7605530220271111\n",
      "\n",
      "Generation 7 - Current best internal CV score: 0.7605530220271111\n",
      "\n",
      "Generation 8 - Current best internal CV score: 0.7605530220271111\n",
      "\n",
      "Generation 9 - Current best internal CV score: 0.7607361905025825\n",
      "\n",
      "Generation 10 - Current best internal CV score: 0.7607361905025825\n",
      "\n",
      "Best pipeline: XGBClassifier(input_matrix, learning_rate=0.5, max_depth=4, min_child_weight=14, n_estimators=100, n_jobs=1, subsample=0.9500000000000001, verbosity=0)\n",
      "Tpop score on test data: 0.75\n",
      "CPU times: user 22min 22s, sys: 7.15 s, total: 22min 29s\n",
      "Wall time: 21min 8s\n"
     ]
    },
    {
     "name": "stderr",
     "output_type": "stream",
     "text": [
      "/Users/Gilles/anaconda3/envs/sa/lib/python3.8/site-packages/sklearn/metrics/_scorer.py:794: FutureWarning: sklearn.metrics.SCORERS is deprecated and will be removed in v1.3. Please use sklearn.metrics.get_scorer_names to get a list of available scorers and sklearn.metrics.get_metric to get scorer.\n",
      "  warnings.warn(\n"
     ]
    }
   ],
   "source": [
    "%%time\n",
    "from tpot import TPOTClassifier\n",
    "tpot = TPOTClassifier(generations=10, \n",
    "                      population_size=16,\n",
    "#                      scoring=my_custom_scorer,# YOUR CODE HERE --> this is the accuracy\n",
    "                     scoring='f1',\n",
    "                      verbosity=2,\n",
    "                      random_state=42)\n",
    "tpot.fit(train_features, train_label)\n",
    "print(f\"Tpop score on test data: {tpot.score(test_features, test_label):.2f}\")\n",
    "tpot.export('acp_pipeline.py')"
   ]
  },
  {
   "cell_type": "code",
   "execution_count": 50,
   "id": "c0581751",
   "metadata": {},
   "outputs": [
    {
     "data": {
      "application/vnd.jupyter.widget-view+json": {
       "model_id": "",
       "version_major": 2,
       "version_minor": 0
      },
      "text/plain": [
       "Optimization Progress:   0%|          | 0/176 [00:00<?, ?pipeline/s]"
      ]
     },
     "metadata": {},
     "output_type": "display_data"
    },
    {
     "name": "stdout",
     "output_type": "stream",
     "text": [
      "\n",
      "Generation 1 - Current best internal CV score: 0.7344057971014493\n",
      "\n",
      "Generation 2 - Current best internal CV score: 0.7344057971014493\n",
      "\n",
      "Generation 3 - Current best internal CV score: 0.7510777338603425\n",
      "\n",
      "Generation 4 - Current best internal CV score: 0.7510777338603425\n",
      "\n",
      "Generation 5 - Current best internal CV score: 0.7510777338603425\n",
      "\n",
      "Generation 6 - Current best internal CV score: 0.7590540184453227\n",
      "\n",
      "Generation 7 - Current best internal CV score: 0.7590540184453227\n",
      "\n",
      "Generation 8 - Current best internal CV score: 0.7612437417654808\n",
      "\n",
      "Generation 9 - Current best internal CV score: 0.7612437417654808\n",
      "\n",
      "Generation 10 - Current best internal CV score: 0.7612437417654808\n",
      "\n",
      "Best pipeline: XGBClassifier(input_matrix, learning_rate=0.1, max_depth=9, min_child_weight=5, n_estimators=100, n_jobs=1, subsample=1.0, verbosity=0)\n",
      "Tpop score on test data: 0.79\n",
      "CPU times: user 28min 46s, sys: 8.23 s, total: 28min 55s\n",
      "Wall time: 26min 59s\n"
     ]
    },
    {
     "name": "stderr",
     "output_type": "stream",
     "text": [
      "/Users/Gilles/anaconda3/envs/sa/lib/python3.8/site-packages/sklearn/metrics/_scorer.py:794: FutureWarning: sklearn.metrics.SCORERS is deprecated and will be removed in v1.3. Please use sklearn.metrics.get_scorer_names to get a list of available scorers and sklearn.metrics.get_metric to get scorer.\n",
      "  warnings.warn(\n"
     ]
    }
   ],
   "source": [
    "%%time\n",
    "from tpot import TPOTClassifier\n",
    "tpot = TPOTClassifier(generations=10, \n",
    "                      population_size=16,\n",
    "#                      scoring=my_custom_scorer,# YOUR CODE HERE --> this is the accuracy\n",
    "                     scoring=.999,\n",
    "                      verbosity=2,\n",
    "                      random_state=42)\n",
    "tpot.fit(train_features, train_label)\n",
    "print(f\"Tpop score on test data: {tpot.score(test_features, test_label):.2f}\")\n",
    "tpot.export('acp_pipeline.py')"
   ]
  },
  {
   "cell_type": "code",
   "execution_count": 51,
   "id": "a23a7f77",
   "metadata": {},
   "outputs": [
    {
     "name": "stdout",
     "output_type": "stream",
     "text": [
      "import numpy as np\r\n",
      "import pandas as pd\r\n",
      "from sklearn.model_selection import train_test_split\r\n",
      "from xgboost import XGBClassifier\r\n",
      "\r\n",
      "# NOTE: Make sure that the outcome column is labeled 'target' in the data file\r\n",
      "tpot_data = pd.read_csv('PATH/TO/DATA/FILE', sep='COLUMN_SEPARATOR', dtype=np.float64)\r\n",
      "features = tpot_data.drop('target', axis=1)\r\n",
      "training_features, testing_features, training_target, testing_target = \\\r\n",
      "            train_test_split(features, tpot_data['target'], random_state=42)\r\n",
      "\r\n",
      "# Average CV score on the training set was: 0.7612437417654808\r\n",
      "exported_pipeline = XGBClassifier(learning_rate=0.1, max_depth=9, min_child_weight=5, n_estimators=100, n_jobs=1, subsample=1.0, verbosity=0)\r\n",
      "# Fix random state in exported estimator\r\n",
      "if hasattr(exported_pipeline, 'random_state'):\r\n",
      "    setattr(exported_pipeline, 'random_state', 42)\r\n",
      "\r\n",
      "exported_pipeline.fit(training_features, training_target)\r\n",
      "results = exported_pipeline.predict(testing_features)\r\n"
     ]
    }
   ],
   "source": [
    "!cat acp_pipeline.py #copy some of the code generated below"
   ]
  },
  {
   "cell_type": "code",
   "execution_count": 52,
   "id": "520f8e8e",
   "metadata": {},
   "outputs": [],
   "source": [
    "import numpy as np\n",
    "import pandas as pd\n",
    "from sklearn.model_selection import train_test_split\n",
    "from xgboost import XGBClassifier"
   ]
  },
  {
   "cell_type": "code",
   "execution_count": 54,
   "id": "5c60c4ec",
   "metadata": {},
   "outputs": [
    {
     "data": {
      "text/html": [
       "<div>\n",
       "<style scoped>\n",
       "    .dataframe tbody tr th:only-of-type {\n",
       "        vertical-align: middle;\n",
       "    }\n",
       "\n",
       "    .dataframe tbody tr th {\n",
       "        vertical-align: top;\n",
       "    }\n",
       "\n",
       "    .dataframe thead th {\n",
       "        text-align: right;\n",
       "    }\n",
       "</style>\n",
       "<table border=\"1\" class=\"dataframe\">\n",
       "  <thead>\n",
       "    <tr style=\"text-align: right;\">\n",
       "      <th></th>\n",
       "      <th>label</th>\n",
       "      <th>c1</th>\n",
       "      <th>c2</th>\n",
       "      <th>c3</th>\n",
       "      <th>c4</th>\n",
       "      <th>c5</th>\n",
       "      <th>c6</th>\n",
       "      <th>c7</th>\n",
       "      <th>c8</th>\n",
       "      <th>c9</th>\n",
       "      <th>...</th>\n",
       "      <th>c41</th>\n",
       "      <th>c42</th>\n",
       "      <th>c43</th>\n",
       "      <th>c44</th>\n",
       "      <th>c45</th>\n",
       "      <th>c46</th>\n",
       "      <th>c47</th>\n",
       "      <th>c48</th>\n",
       "      <th>c49</th>\n",
       "      <th>c50</th>\n",
       "    </tr>\n",
       "  </thead>\n",
       "  <tbody>\n",
       "    <tr>\n",
       "      <th>0</th>\n",
       "      <td>0.0</td>\n",
       "      <td>18.0</td>\n",
       "      <td>18.0</td>\n",
       "      <td>23.0</td>\n",
       "      <td>23.0</td>\n",
       "      <td>18.0</td>\n",
       "      <td>18.0</td>\n",
       "      <td>23.0</td>\n",
       "      <td>18.0</td>\n",
       "      <td>18.0</td>\n",
       "      <td>...</td>\n",
       "      <td>0.0</td>\n",
       "      <td>0.0</td>\n",
       "      <td>0.0</td>\n",
       "      <td>0.0</td>\n",
       "      <td>0.0</td>\n",
       "      <td>0.0</td>\n",
       "      <td>0.0</td>\n",
       "      <td>0.0</td>\n",
       "      <td>0.0</td>\n",
       "      <td>0.0</td>\n",
       "    </tr>\n",
       "    <tr>\n",
       "      <th>1</th>\n",
       "      <td>0.0</td>\n",
       "      <td>7.0</td>\n",
       "      <td>23.0</td>\n",
       "      <td>11.0</td>\n",
       "      <td>19.0</td>\n",
       "      <td>22.0</td>\n",
       "      <td>6.0</td>\n",
       "      <td>18.0</td>\n",
       "      <td>11.0</td>\n",
       "      <td>1.0</td>\n",
       "      <td>...</td>\n",
       "      <td>0.0</td>\n",
       "      <td>0.0</td>\n",
       "      <td>0.0</td>\n",
       "      <td>0.0</td>\n",
       "      <td>0.0</td>\n",
       "      <td>0.0</td>\n",
       "      <td>0.0</td>\n",
       "      <td>0.0</td>\n",
       "      <td>0.0</td>\n",
       "      <td>0.0</td>\n",
       "    </tr>\n",
       "  </tbody>\n",
       "</table>\n",
       "<p>2 rows × 51 columns</p>\n",
       "</div>"
      ],
      "text/plain": [
       "   label    c1    c2    c3    c4    c5    c6    c7    c8    c9  ...  c41  c42  \\\n",
       "0    0.0  18.0  18.0  23.0  23.0  18.0  18.0  23.0  18.0  18.0  ...  0.0  0.0   \n",
       "1    0.0   7.0  23.0  11.0  19.0  22.0   6.0  18.0  11.0   1.0  ...  0.0  0.0   \n",
       "\n",
       "   c43  c44  c45  c46  c47  c48  c49  c50  \n",
       "0  0.0  0.0  0.0  0.0  0.0  0.0  0.0  0.0  \n",
       "1  0.0  0.0  0.0  0.0  0.0  0.0  0.0  0.0  \n",
       "\n",
       "[2 rows x 51 columns]"
      ]
     },
     "execution_count": 54,
     "metadata": {},
     "output_type": "execute_result"
    }
   ],
   "source": [
    "#repeat for test data\n",
    "df = pd.read_csv('data/acp/train_data.csv')\n",
    "df[['c1','c2','c3','c4','c5','c6','c7','c8','c9','c10',\n",
    " 'c11','c12','c13','c14','c15','c16','c17','c18','c19','c20',\n",
    " 'c21','c22','c23','c24','c25','c26','c27','c28','c29','c30',\n",
    " 'c31','c32','c33','c34','c35','c36','c37','c38','c39','c40',\n",
    " 'c41','c42','c43','c44','c45','c46','c47','c48','c49',\n",
    " 'c50']] = df.apply(splitchain,axis=1)\n",
    "for column in df.columns[2:]:\n",
    "    df[column] = df[column].replace(letter_2num)\n",
    "train_df = df.drop(columns=['sequences'],axis=1)\n",
    "train_df = train_df.astype(float)\n",
    "train_df.head(2)"
   ]
  },
  {
   "cell_type": "code",
   "execution_count": 55,
   "id": "bf4d1de7",
   "metadata": {},
   "outputs": [],
   "source": [
    "# NOTE: Modifying suggested code to take existing df and target = label\n",
    "tpot_data = train_df\n",
    "features = tpot_data.drop('label', axis=1)\n",
    "training_features, testing_features, training_target, testing_target = \\\n",
    "            train_test_split(features, tpot_data['label'], random_state=42)\n",
    "\n",
    "# Average CV score on the training set was: 0.7612437417654808\n",
    "exported_pipeline = XGBClassifier(learning_rate=0.1, max_depth=9, min_child_weight=5, n_estimators=100, n_jobs=1, subsample=1.0, verbosity=0)\n",
    "# Fix random state in exported estimator\n",
    "if hasattr(exported_pipeline, 'random_state'):\n",
    "    setattr(exported_pipeline, 'random_state', 42)\n",
    "\n",
    "exported_pipeline.fit(training_features, training_target)\n",
    "results = exported_pipeline.predict(testing_features)"
   ]
  },
  {
   "cell_type": "code",
   "execution_count": 56,
   "id": "b720b60d",
   "metadata": {},
   "outputs": [
    {
     "data": {
      "text/html": [
       "<div>\n",
       "<style scoped>\n",
       "    .dataframe tbody tr th:only-of-type {\n",
       "        vertical-align: middle;\n",
       "    }\n",
       "\n",
       "    .dataframe tbody tr th {\n",
       "        vertical-align: top;\n",
       "    }\n",
       "\n",
       "    .dataframe thead th {\n",
       "        text-align: right;\n",
       "    }\n",
       "</style>\n",
       "<table border=\"1\" class=\"dataframe\">\n",
       "  <thead>\n",
       "    <tr style=\"text-align: right;\">\n",
       "      <th></th>\n",
       "      <th>c1</th>\n",
       "      <th>c2</th>\n",
       "      <th>c3</th>\n",
       "      <th>c4</th>\n",
       "      <th>c5</th>\n",
       "      <th>c6</th>\n",
       "      <th>c7</th>\n",
       "      <th>c8</th>\n",
       "      <th>c9</th>\n",
       "      <th>c10</th>\n",
       "      <th>...</th>\n",
       "      <th>c41</th>\n",
       "      <th>c42</th>\n",
       "      <th>c43</th>\n",
       "      <th>c44</th>\n",
       "      <th>c45</th>\n",
       "      <th>c46</th>\n",
       "      <th>c47</th>\n",
       "      <th>c48</th>\n",
       "      <th>c49</th>\n",
       "      <th>c50</th>\n",
       "    </tr>\n",
       "  </thead>\n",
       "  <tbody>\n",
       "    <tr>\n",
       "      <th>597</th>\n",
       "      <td>7.0</td>\n",
       "      <td>12.0</td>\n",
       "      <td>6.0</td>\n",
       "      <td>4.0</td>\n",
       "      <td>9.0</td>\n",
       "      <td>22.0</td>\n",
       "      <td>11.0</td>\n",
       "      <td>11.0</td>\n",
       "      <td>9.0</td>\n",
       "      <td>1.0</td>\n",
       "      <td>...</td>\n",
       "      <td>0.0</td>\n",
       "      <td>0.0</td>\n",
       "      <td>0.0</td>\n",
       "      <td>0.0</td>\n",
       "      <td>0.0</td>\n",
       "      <td>0.0</td>\n",
       "      <td>0.0</td>\n",
       "      <td>0.0</td>\n",
       "      <td>0.0</td>\n",
       "      <td>0.0</td>\n",
       "    </tr>\n",
       "    <tr>\n",
       "      <th>700</th>\n",
       "      <td>11.0</td>\n",
       "      <td>12.0</td>\n",
       "      <td>11.0</td>\n",
       "      <td>14.0</td>\n",
       "      <td>6.0</td>\n",
       "      <td>1.0</td>\n",
       "      <td>11.0</td>\n",
       "      <td>7.0</td>\n",
       "      <td>22.0</td>\n",
       "      <td>1.0</td>\n",
       "      <td>...</td>\n",
       "      <td>0.0</td>\n",
       "      <td>0.0</td>\n",
       "      <td>0.0</td>\n",
       "      <td>0.0</td>\n",
       "      <td>0.0</td>\n",
       "      <td>0.0</td>\n",
       "      <td>0.0</td>\n",
       "      <td>0.0</td>\n",
       "      <td>0.0</td>\n",
       "      <td>0.0</td>\n",
       "    </tr>\n",
       "  </tbody>\n",
       "</table>\n",
       "<p>2 rows × 50 columns</p>\n",
       "</div>"
      ],
      "text/plain": [
       "       c1    c2    c3    c4   c5    c6    c7    c8    c9  c10  ...  c41  c42  \\\n",
       "597   7.0  12.0   6.0   4.0  9.0  22.0  11.0  11.0   9.0  1.0  ...  0.0  0.0   \n",
       "700  11.0  12.0  11.0  14.0  6.0   1.0  11.0   7.0  22.0  1.0  ...  0.0  0.0   \n",
       "\n",
       "     c43  c44  c45  c46  c47  c48  c49  c50  \n",
       "597  0.0  0.0  0.0  0.0  0.0  0.0  0.0  0.0  \n",
       "700  0.0  0.0  0.0  0.0  0.0  0.0  0.0  0.0  \n",
       "\n",
       "[2 rows x 50 columns]"
      ]
     },
     "execution_count": 56,
     "metadata": {},
     "output_type": "execute_result"
    }
   ],
   "source": [
    "testing_features.head(2)# "
   ]
  },
  {
   "cell_type": "code",
   "execution_count": 57,
   "id": "b39b9dc6",
   "metadata": {},
   "outputs": [
    {
     "data": {
      "text/html": [
       "<div>\n",
       "<style scoped>\n",
       "    .dataframe tbody tr th:only-of-type {\n",
       "        vertical-align: middle;\n",
       "    }\n",
       "\n",
       "    .dataframe tbody tr th {\n",
       "        vertical-align: top;\n",
       "    }\n",
       "\n",
       "    .dataframe thead th {\n",
       "        text-align: right;\n",
       "    }\n",
       "</style>\n",
       "<table border=\"1\" class=\"dataframe\">\n",
       "  <thead>\n",
       "    <tr style=\"text-align: right;\">\n",
       "      <th></th>\n",
       "      <th>c1</th>\n",
       "      <th>c2</th>\n",
       "      <th>c3</th>\n",
       "      <th>c4</th>\n",
       "      <th>c5</th>\n",
       "      <th>c6</th>\n",
       "      <th>c7</th>\n",
       "      <th>c8</th>\n",
       "      <th>c9</th>\n",
       "      <th>c10</th>\n",
       "      <th>...</th>\n",
       "      <th>c41</th>\n",
       "      <th>c42</th>\n",
       "      <th>c43</th>\n",
       "      <th>c44</th>\n",
       "      <th>c45</th>\n",
       "      <th>c46</th>\n",
       "      <th>c47</th>\n",
       "      <th>c48</th>\n",
       "      <th>c49</th>\n",
       "      <th>c50</th>\n",
       "    </tr>\n",
       "  </thead>\n",
       "  <tbody>\n",
       "    <tr>\n",
       "      <th>0</th>\n",
       "      <td>6.0</td>\n",
       "      <td>12.0</td>\n",
       "      <td>16.0</td>\n",
       "      <td>12.0</td>\n",
       "      <td>12.0</td>\n",
       "      <td>12.0</td>\n",
       "      <td>19.0</td>\n",
       "      <td>1.0</td>\n",
       "      <td>12.0</td>\n",
       "      <td>16.0</td>\n",
       "      <td>...</td>\n",
       "      <td>0.0</td>\n",
       "      <td>0.0</td>\n",
       "      <td>0.0</td>\n",
       "      <td>0.0</td>\n",
       "      <td>0.0</td>\n",
       "      <td>0.0</td>\n",
       "      <td>0.0</td>\n",
       "      <td>0.0</td>\n",
       "      <td>0.0</td>\n",
       "      <td>0.0</td>\n",
       "    </tr>\n",
       "    <tr>\n",
       "      <th>1</th>\n",
       "      <td>4.0</td>\n",
       "      <td>11.0</td>\n",
       "      <td>12.0</td>\n",
       "      <td>9.0</td>\n",
       "      <td>7.0</td>\n",
       "      <td>19.0</td>\n",
       "      <td>3.0</td>\n",
       "      <td>22.0</td>\n",
       "      <td>23.0</td>\n",
       "      <td>12.0</td>\n",
       "      <td>...</td>\n",
       "      <td>23.0</td>\n",
       "      <td>3.0</td>\n",
       "      <td>5.0</td>\n",
       "      <td>20.0</td>\n",
       "      <td>0.0</td>\n",
       "      <td>0.0</td>\n",
       "      <td>0.0</td>\n",
       "      <td>0.0</td>\n",
       "      <td>0.0</td>\n",
       "      <td>0.0</td>\n",
       "    </tr>\n",
       "  </tbody>\n",
       "</table>\n",
       "<p>2 rows × 50 columns</p>\n",
       "</div>"
      ],
      "text/plain": [
       "    c1    c2    c3    c4    c5    c6    c7    c8    c9   c10  ...   c41  c42  \\\n",
       "0  6.0  12.0  16.0  12.0  12.0  12.0  19.0   1.0  12.0  16.0  ...   0.0  0.0   \n",
       "1  4.0  11.0  12.0   9.0   7.0  19.0   3.0  22.0  23.0  12.0  ...  23.0  3.0   \n",
       "\n",
       "   c43   c44  c45  c46  c47  c48  c49  c50  \n",
       "0  0.0   0.0  0.0  0.0  0.0  0.0  0.0  0.0  \n",
       "1  5.0  20.0  0.0  0.0  0.0  0.0  0.0  0.0  \n",
       "\n",
       "[2 rows x 50 columns]"
      ]
     },
     "execution_count": 57,
     "metadata": {},
     "output_type": "execute_result"
    }
   ],
   "source": [
    "test_df.head(2)"
   ]
  },
  {
   "cell_type": "code",
   "execution_count": 58,
   "id": "83405afb",
   "metadata": {},
   "outputs": [],
   "source": [
    "# we run the predict on our test data. The testing features above came from the train_df\n",
    "predictions = exported_pipeline.predict(test_df)"
   ]
  },
  {
   "cell_type": "code",
   "execution_count": 59,
   "id": "a4b25b8e",
   "metadata": {},
   "outputs": [
    {
     "data": {
      "text/plain": [
       "0    0.0\n",
       "1    0.0\n",
       "Name: label, dtype: float64"
      ]
     },
     "execution_count": 59,
     "metadata": {},
     "output_type": "execute_result"
    }
   ],
   "source": [
    "test_label.head(2)"
   ]
  },
  {
   "cell_type": "code",
   "execution_count": 60,
   "id": "7f9dab27",
   "metadata": {},
   "outputs": [
    {
     "name": "stdout",
     "output_type": "stream",
     "text": [
      "accuracy: 0.75\n",
      "precision: 0.7415730337078652\n",
      "recall: 0.7674418604651163\n",
      "f1 score: 0.7542857142857143\n",
      "confusion matrix:\n",
      "[[126  46]\n",
      " [ 40 132]]\n"
     ]
    }
   ],
   "source": [
    "print(\"accuracy:\", accuracy(test_label, predictions))\n",
    "print(\"precision:\", precision(test_label, predictions))\n",
    "print(\"recall:\", recall(test_label, predictions))\n",
    "print(\"f1 score:\", f1_score(test_label, predictions))\n",
    "print(\"confusion matrix:\")\n",
    "print(confusion_matrix(test_label, predictions))"
   ]
  },
  {
   "cell_type": "code",
   "execution_count": 61,
   "id": "59d181cb",
   "metadata": {},
   "outputs": [
    {
     "data": {
      "image/png": "[encoded data removed]",
      "text/plain": [
       "<Figure size 200x200 with 1 Axes>"
      ]
     },
     "metadata": {},
     "output_type": "display_data"
    }
   ],
   "source": [
    "import matplotlib.pyplot as plt\n",
    "%matplotlib inline\n",
    "conf_matrix = confusion_matrix(test_label, predictions)\n",
    "fig, ax = plt.subplots(figsize=(2, 2))\n",
    "ax.matshow(conf_matrix, cmap=plt.cm.Blues, alpha=0.3)\n",
    "for i in range(conf_matrix.shape[0]):\n",
    "    for j in range(conf_matrix.shape[1]):\n",
    "        ax.text(x=j, y=i,s=conf_matrix[i, j], va='center', ha='center', size='large')\n",
    "plt.xlabel('Predictions', fontsize=18)\n",
    "plt.ylabel('Actuals', fontsize=18)\n",
    "plt.title('Confusion Matrix', fontsize=18)\n",
    "plt.show()"
   ]
  },
  {
   "cell_type": "code",
   "execution_count": null,
   "id": "f79300ad",
   "metadata": {},
   "outputs": [],
   "source": []
  }
 ],
 "metadata": {
  "kernelspec": {
   "display_name": "sa",
   "language": "python",
   "name": "sa"
  },
  "language_info": {
   "codemirror_mode": {
    "name": "ipython",
    "version": 3
   },
   "file_extension": ".py",
   "mimetype": "text/x-python",
   "name": "python",
   "nbconvert_exporter": "python",
   "pygments_lexer": "ipython3",
   "version": "3.8.15"
  },
  "vscode": {
   "interpreter": {
    "hash": "6f48bd2b584e642703c75a6eac854496dbfd73680c9123e3e3c1f8649505feb7"
   }
  }
 },
 "nbformat": 4,
 "nbformat_minor": 5
}
